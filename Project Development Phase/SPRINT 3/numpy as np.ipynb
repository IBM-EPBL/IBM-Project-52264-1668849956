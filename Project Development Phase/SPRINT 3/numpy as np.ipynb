{
  "nbformat": 4,
  "nbformat_minor": 0,
  "metadata": {
    "colab": {
      "provenance": []
    },
    "kernelspec": {
      "name": "python3",
      "display_name": "Python 3"
    },
    "language_info": {
      "name": "python"
    }
  },
  "cells": [
    {
      "cell_type": "code",
      "execution_count": null,
      "metadata": {
        "id": "T1NBvhMCkrTJ"
      },
      "outputs": [],
      "source": [
        "import cv2\n",
        "import numpy as np\n",
        "from keras.models import load_model\n",
        "from skimage.transform import resize"
      ]
    },
    {
      "cell_type": "code",
      "source": [
        "model = load_model('../as1png.h5')"
      ],
      "metadata": {
        "id": "r1vceFVYmAP6"
      },
      "execution_count": null,
      "outputs": []
    },
    {
      "cell_type": "code",
      "source": [
        "def detect(frame):\n",
        "    img = resize(frame, (64, 64, 1))\n",
        "    img = np.expand_dims(img, axis = 0)\n",
        "    if(np.max(img) > 1):\n",
        "        img = img/255.0\n",
        "    prediction = model.predict(img)\n",
        "    print(prediction)\n",
        "    prediction = (model.predict(img) > 0.5).astype('int32')\n",
        "    print(prediction)"
      ],
      "metadata": {
        "id": "HgXM74SXmAYR"
      },
      "execution_count": null,
      "outputs": []
    },
    {
      "cell_type": "code",
      "source": [
        "rame = cv2.imread(r'../Dataset/test_set/A/106.png')\n",
        "data = detect(frame)"
      ],
      "metadata": {
        "id": "8Xj79YYnmAhS"
      },
      "execution_count": null,
      "outputs": []
    },
    {
      "cell_type": "code",
      "source": [
        "frame = cv2.imread(r'../Dataset/test_set/B/13.png')\n",
        "data = detect(frame)"
      ],
      "metadata": {
        "id": "6TRFHTt7mApZ"
      },
      "execution_count": null,
      "outputs": []
    },
    {
      "cell_type": "code",
      "source": [
        "frame = cv2.imread(r'../Dataset/test_set/C/27.png')\n",
        "data = detect(frame)"
      ],
      "metadata": {
        "id": "X7X1mA7jmAv4"
      },
      "execution_count": null,
      "outputs": []
    }
  ]
}