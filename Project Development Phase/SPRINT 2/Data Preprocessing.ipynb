{
  "nbformat": 4,
  "nbformat_minor": 0,
  "metadata": {
    "colab": {
      "provenance": []
    },
    "kernelspec": {
      "name": "python3",
      "display_name": "Python 3"
    },
    "language_info": {
      "name": "python"
    }
  },
  "cells": [
    {
      "cell_type": "code",
      "execution_count": null,
      "metadata": {
        "id": "MqMgzRS8jUgR"
      },
      "outputs": [],
      "source": [
        "from keras.preprocessing.image import ImageDataGenerator\n",
        "from keras.models import Sequential\n",
        "from keras.layers import Convolution2D, Dense, Dropout, Flatten, MaxPooling2D"
      ]
    },
    {
      "cell_type": "code",
      "source": [
        "train_datagen = ImageDataGenerator(\n",
        "    rescale = 1./255,\n",
        "    shear_range = 0.2,\n",
        "    zoom_range = 0.2,\n",
        "    horizontal_flip = True\n",
        ")"
      ],
      "metadata": {
        "id": "_2DxmwYvjtsa"
      },
      "execution_count": null,
      "outputs": []
    },
    {
      "cell_type": "code",
      "source": [
        "test_datagen = ImageDataGenerator(rescale = 1./255)"
      ],
      "metadata": {
        "id": "oo-WF-Czjtwp"
      },
      "execution_count": null,
      "outputs": []
    },
    {
      "cell_type": "code",
      "source": [
        "x_train = train_datagen.flow_from_directory(\n",
        "    '../Dataset/training_set',\n",
        "    target_size = (64, 64),\n",
        "    batch_size = 300,\n",
        "    class_mode = 'categorical',\n",
        "    color_mode = 'grayscale'\n",
        ")"
      ],
      "metadata": {
        "id": "sashpf76jt1S"
      },
      "execution_count": null,
      "outputs": []
    },
    {
      "cell_type": "code",
      "source": [
        "x_test = test_datagen.flow_from_directory(\n",
        "    '../Dataset/test_set',\n",
        "    target_size = (64, 64),\n",
        "    batch_size = 300,\n",
        "    class_mode = 'categorical',\n",
        "    color_mode = 'grayscale'\n",
        ")"
      ],
      "metadata": {
        "id": "vuNLI7-jjt53"
      },
      "execution_count": null,
      "outputs": []
    },
    {
      "cell_type": "code",
      "source": [
        "model = Sequential()"
      ],
      "metadata": {
        "id": "43HBGzXaj4sA"
      },
      "execution_count": null,
      "outputs": []
    },
    {
      "cell_type": "code",
      "source": [
        "model.add(Convolution2D(32, (3, 3), input_shape = (64, 64, 1), activation = 'relu'))\n",
        "model.add(MaxPooling2D(pool_size = (2, 2)))\n",
        "model.add(Flatten())\n",
        "model.add(Dense(units = 512, activation = 'relu'))\n",
        "model.add(Dense(units = 9, activation = 'softmax'))"
      ],
      "metadata": {
        "id": "9qZJY82Oj-Dz"
      },
      "execution_count": null,
      "outputs": []
    },
    {
      "cell_type": "code",
      "source": [
        "model.compile(\n",
        "    loss = 'categorical_crossentropy',\n",
        "    optimizer = 'adam',\n",
        "    metrics = ['accuracy']\n",
        ")"
      ],
      "metadata": {
        "id": "Vac5oPpnj-HS"
      },
      "execution_count": null,
      "outputs": []
    },
    {
      "cell_type": "code",
      "source": [
        "model.fit(\n",
        "    x_train,\n",
        "    steps_per_epoch = 24,\n",
        "    epochs = 10,\n",
        "    validation_data = x_test,\n",
        "    validation_steps = 40\n",
        ")"
      ],
      "metadata": {
        "id": "jxSiGj6Dj4xi"
      },
      "execution_count": null,
      "outputs": []
    },
    {
      "cell_type": "code",
      "source": [
        "model.save('../as1png.h5')"
      ],
      "metadata": {
        "id": "-7m7mDMxkM0p"
      },
      "execution_count": null,
      "outputs": []
    }
  ]
}